{
 "cells": [
  {
   "cell_type": "markdown",
   "metadata": {
    "toc": true
   },
   "source": [
    "<h1>Table of Contents<span class=\"tocSkip\"></span></h1>\n",
    "<div class=\"toc\"><ul class=\"toc-item\"><li><span><a href=\"#Some-data-to-fit\" data-toc-modified-id=\"Some-data-to-fit-1\"><span class=\"toc-item-num\">1&nbsp;&nbsp;</span>Some data to fit</a></span></li><li><span><a href=\"#RBF-kernel-definition\" data-toc-modified-id=\"RBF-kernel-definition-2\"><span class=\"toc-item-num\">2&nbsp;&nbsp;</span>RBF kernel definition</a></span></li><li><span><a href=\"#Fit-the-RBF-regression\" data-toc-modified-id=\"Fit-the-RBF-regression-3\"><span class=\"toc-item-num\">3&nbsp;&nbsp;</span>Fit the RBF regression</a></span></li><li><span><a href=\"#Play-with-hyper-parameters-of-the-model\" data-toc-modified-id=\"Play-with-hyper-parameters-of-the-model-4\"><span class=\"toc-item-num\">4&nbsp;&nbsp;</span>Play with hyper parameters of the model</a></span></li></ul></div>"
   ]
  },
  {
   "cell_type": "code",
   "execution_count": null,
   "metadata": {},
   "outputs": [],
   "source": [
    "import numpy as np\n",
    "import matplotlib.pyplot as plt\n",
    "import matplotlib as mpl\n",
    "import rbfregression.core as rbfreg"
   ]
  },
  {
   "cell_type": "code",
   "execution_count": null,
   "metadata": {},
   "outputs": [],
   "source": [
    "%load_ext autoreload\n",
    "%autoreload 2\n",
    "%matplotlib notebook"
   ]
  },
  {
   "cell_type": "markdown",
   "metadata": {},
   "source": [
    "## Some data to fit"
   ]
  },
  {
   "cell_type": "code",
   "execution_count": null,
   "metadata": {},
   "outputs": [],
   "source": [
    "def function(x, rand =.2):\n",
    "    y = np.exp(-((x-50)/20.)**2)/2 + 1/150.*x\n",
    "    y += rand * np.random.randn(len(x))\n",
    "    return y\n",
    "\n",
    "# Real function values\n",
    "X_true = np.arange(0, 150, 1.)\n",
    "Y_true = function(X_true, rand=0)\n",
    "\n",
    "# Key points\n",
    "X_k = np.arange(10, 141, 20.) \n",
    "\n",
    "\n",
    "# Data for learning\n",
    "X_l = np.arange(0, 150, 1.) \n",
    "Y_l = function(X_l)\n",
    "\n",
    "X_k = np.atleast_2d(X_k).T\n",
    "X_l = np.atleast_2d(X_l).T\n",
    "\n",
    "\n",
    "plt.figure()\n",
    "plt.plot(X_true, Y_true, ':g', label ='true function')\n",
    "plt.plot(X_l, Y_l, '.b', label ='noisy data for learning')\n",
    "plt.grid()\n",
    "plt.legend()\n",
    "plt.show()\n",
    "\n",
    "plt.savefig('Data.png')"
   ]
  },
  {
   "cell_type": "markdown",
   "metadata": {},
   "source": [
    "## RBF kernel definition"
   ]
  },
  {
   "cell_type": "code",
   "execution_count": null,
   "metadata": {},
   "outputs": [],
   "source": [
    "# RbF kernel\n",
    "def TPS_kernel(r, radius):\n",
    "    \n",
    "    r[r==0]=1 \n",
    "    return r * r * np.log(r)\n",
    "\n",
    "\n",
    "def Gauss_kernel(r, radius):\n",
    "    radius *= 0.707\n",
    "    result = np.exp(-(r **2 ) / (2.0 * radius**2)) \n",
    "    return result\n"
   ]
  },
  {
   "cell_type": "markdown",
   "metadata": {},
   "source": [
    "## Fit the RBF regression"
   ]
  },
  {
   "cell_type": "code",
   "execution_count": null,
   "metadata": {},
   "outputs": [],
   "source": [
    "# Create the RegularizedRBF instance\n",
    "RBF = rbfreg.RegularizedRBF(kernel=Gauss_kernel)\n",
    "# Set the control points (key points)\n",
    "RBF.set_key_points(X_k)\n",
    "# Compute the fit\n",
    "RBF.fit(X_l, Y_l, regularization=0.1, radius = 25)\n",
    "\n",
    "# Eval the model at points\n",
    "Y_s = RBF.eval(X_l)\n",
    "Y_k = RBF.eval(X_k)\n",
    "\n",
    "# Plot them all\n",
    "plt.figure()\n",
    "plt.plot(X_true, Y_true, ':g', label ='true function')\n",
    "plt.plot(X_l, Y_l, '.b', label ='noisy data for learning')\n",
    "plt.plot(X_l, Y_s, '-r', label ='RBF model')\n",
    "plt.plot(X_k, Y_k, 'ok', label ='RBF model - control points')\n",
    "plt.grid()\n",
    "plt.legend()\n",
    "plt.savefig('Exemple_1D.png')"
   ]
  },
  {
   "cell_type": "markdown",
   "metadata": {},
   "source": [
    "## Play with hyper parameters of the model"
   ]
  },
  {
   "cell_type": "code",
   "execution_count": null,
   "metadata": {},
   "outputs": [],
   "source": [
    "import ipywidgets as widgets\n",
    "from ipywidgets import HBox, VBox\n",
    "\n",
    "Y_l = function(X_l[:,0], rand=.1)\n",
    "\n",
    "plt.figure()\n",
    "\n",
    "plt.plot(X_l, Y_l, '.b', label ='noisy data for learning')\n",
    "plt.plot(X_true, Y_true, ':g', label ='true function')\n",
    "rbf_model,  = plt.plot([], [], '-r', label ='RBF model')\n",
    "key_points, = plt.plot([], [], 'ok', label ='RBF model - control points')\n",
    "plt.grid()\n",
    "plt.legend()\n",
    "\n",
    "\n",
    "@widgets.interact(regularization=(0,1.), radius=(1,100))\n",
    "def plot_oscil_1(regularization=0, radius=25):\n",
    "      \n",
    "    RBF = rbfreg.RegularizedRBF(kernel=Gauss_kernel)\n",
    "    RBF.set_key_points(X_k)\n",
    "    RBF.fit(X_l, Y_l, regularization=regularization, radius = radius)\n",
    "    Y_s = RBF.eval(X_l)\n",
    "    Y_k = RBF.eval(X_k)\n",
    "\n",
    "    rbf_model.set_data(X_l, Y_s)\n",
    "    key_points.set_data(X_k, Y_k)\n",
    "\n",
    "    "
   ]
  },
  {
   "cell_type": "code",
   "execution_count": null,
   "metadata": {},
   "outputs": [],
   "source": []
  },
  {
   "cell_type": "code",
   "execution_count": null,
   "metadata": {},
   "outputs": [],
   "source": []
  }
 ],
 "metadata": {
  "kernelspec": {
   "display_name": "Python 3",
   "language": "python",
   "name": "python3"
  },
  "language_info": {
   "codemirror_mode": {
    "name": "ipython",
    "version": 3
   },
   "file_extension": ".py",
   "mimetype": "text/x-python",
   "name": "python",
   "nbconvert_exporter": "python",
   "pygments_lexer": "ipython3",
   "version": "3.8.3"
  },
  "toc": {
   "base_numbering": 1,
   "nav_menu": {},
   "number_sections": true,
   "sideBar": true,
   "skip_h1_title": true,
   "title_cell": "Table of Contents",
   "title_sidebar": "Contents",
   "toc_cell": true,
   "toc_position": {},
   "toc_section_display": true,
   "toc_window_display": false
  }
 },
 "nbformat": 4,
 "nbformat_minor": 4
}
